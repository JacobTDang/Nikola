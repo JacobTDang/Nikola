{
  "cells": [
    {
      "cell_type": "code",
      "execution_count": null,
      "metadata": {
        "id": "iebRHebLGoeR"
      },
      "outputs": [],
      "source": [
        "from google.colab import drive\n",
        "drive.mount('/content/drive')"
      ]
    },
    {
      "cell_type": "code",
      "execution_count": null,
      "metadata": {
        "id": "0FQNrZNRH1-j"
      },
      "outputs": [],
      "source": [
        "import torch.nn as nn\n",
        "\n",
        "class nikola(nn.Module):\n",
        "  def __init__(self):\n",
        "    # calls constructor of parent class to properly set everything up\n",
        "    super().__init__()\n",
        "\n",
        "    # sequential is a container that holds a series of layers that data will pass through\n",
        "    self.conv_layers = nn.Sequential(\n",
        "    # 2d convolution layer\n",
        "    nn.Conv2d(in_channels=3, out_channels=24, kernel_size=5, stride=2),\n",
        "    nn.ReLU(),\n",
        "    nn.Conv2d(in_channels=24, out_channels=36, kernel_size=5, stride=2),\n",
        "    nn.ReLU(),\n",
        "    nn.Conv2d(in_channels=36, out_channels=48, kernel_size=3, stride=2),\n",
        "    nn.ReLU(),\n",
        "    nn.Conv2d(in_channels=48, out_channels=64, kernel_size=3, stride=1),\n",
        "    nn.ReLU(),\n",
        "    nn.Conv2d(in_channels=64, out_channels= 64, kernel_size=3, stride=1),\n",
        "    nn.ReLU(),\n",
        "    nn.Flatten()\n",
        "    )\n",
        "\n",
        "    self.dense_layers = nn.Sequential(\n",
        "      nn.Linear(in_features=8064, out_features=100),\n",
        "      nn.ReLU(),\n",
        "      nn.Linear(in_features=100, out_features=50),\n",
        "      nn.ReLU(),\n",
        "      nn.Linear(in_features=50, out_features=10),\n",
        "      nn.ReLU(),\n",
        "      nn.Linear(in_features=10, out_features=2)\n",
        "    )\n",
        "\n",
        "  def forward(self, x):\n",
        "    # 'x' is the input image tensor\n",
        "\n",
        "    # image goes through all convolution layers\n",
        "    x = self.conv_layers(x)\n",
        "    # result from convolution layer is then passed through all the dense layers\n",
        "    x = self.dense_layers(x)\n",
        "    # return the results (steering and throttle)\n",
        "    return x\n"
      ]
    },
    {
      "cell_type": "code",
      "execution_count": null,
      "metadata": {
        "colab": {
          "base_uri": "https://localhost:8080/"
        },
        "id": "TUU6sOhwIfuD",
        "outputId": "1d707a4a-f602-43cc-fd81-d7f9bdb24e9c"
      },
      "outputs": [
        {
          "name": "stdout",
          "output_type": "stream",
          "text": [
            "Output shape after convolutional layers: torch.Size([1, 8064])\n"
          ]
        }
      ],
      "source": [
        "import torch\n",
        "\n",
        "# nikola class is defined above\n",
        "model = nikola()\n",
        "\n",
        "# Create a dummy input tensor to test the output size\n",
        "# Shape is: (batch_size, channels, height, width)\n",
        "# Use the image size you plan to train on (e.g., 120x160)\n",
        "dummy_input = torch.randn(1, 3, 120, 160)\n",
        "\n",
        "# Pass the dummy input through only the convolutional part\n",
        "conv_output = model.conv_layers(dummy_input)\n",
        "\n",
        "# Print the flattened size\n",
        "print(f\"Output shape after convolutional layers: {conv_output.shape}\")"
      ]
    },
    {
      "cell_type": "code",
      "execution_count": null,
      "metadata": {
        "id": "nyd9Xs-dKO6y"
      },
      "outputs": [],
      "source": [
        "import os\n",
        "import cv2\n",
        "import pandas as pd\n",
        "import torch\n",
        "from torch.utils.data import Dataset\n",
        "from torchvision import transforms\n",
        "\n",
        "class UdacityDataset(Dataset):\n",
        "    def __init__(self, data_dir, csv_filename='driving_log.csv'):\n",
        "        self.data_dir = data_dir\n",
        "        csv_path = os.path.join(self.data_dir, csv_filename)\n",
        "\n",
        "        # Define the column names since the file has no header\n",
        "        column_names = ['centercam', 'leftcam', 'rightcam', 'steering', 'throttle', 'brake', 'speed']\n",
        "        self.log = pd.read_csv(csv_path, names=column_names)\n",
        "\n",
        "        # Define the transformation pipeline\n",
        "        self.transform = transforms.Compose([\n",
        "            transforms.ToTensor(),\n",
        "            transforms.Resize((120, 160), antialias=True),\n",
        "            transforms.Normalize(mean=[0.485, 0.456, 0.406], std=[0.229, 0.224, 0.225])\n",
        "        ])\n",
        "\n",
        "    def __len__(self):\n",
        "        return len(self.log)\n",
        "\n",
        "    def __getitem__(self, idx):\n",
        "        row = self.log.iloc[idx]\n",
        "\n",
        "        # Use the correct column names we just defined above\n",
        "        steering = row['steering']\n",
        "        throttle = row['throttle']\n",
        "        labels = torch.tensor([steering, throttle], dtype=torch.float32)\n",
        "\n",
        "        # Get the original image path from the 'centercam' column\n",
        "        original_path = row['centercam']\n",
        "\n",
        "        # Extract the filename from the Windows path and construct the correct path\n",
        "        filename = os.path.basename(original_path.replace('\\\\', '/')).strip()\n",
        "        correct_path = os.path.join(self.data_dir, 'IMG', filename)\n",
        "\n",
        "        # Load the image and handle potential errors\n",
        "        image = cv2.imread(correct_path)\n",
        "\n",
        "        if image is None:\n",
        "            print(f\"Warning: Could not load image at {correct_path}. Skipping this data point.\")\n",
        "            return None  # Return None for invalid data points\n",
        "\n",
        "        image = cv2.cvtColor(image, cv2.COLOR_BGR2RGB)\n",
        "\n",
        "        image = self.transform(image)\n",
        "\n",
        "        return image, labels"
      ]
    },
    {
      "cell_type": "code",
      "execution_count": null,
      "metadata": {
        "colab": {
          "base_uri": "https://localhost:8080/"
        },
        "id": "WoaUTby35WN3",
        "outputId": "702a2904-8834-4e67-ef21-79c351c98fd3"
      },
      "outputs": [
        {
          "name": "stdout",
          "output_type": "stream",
          "text": [
            "Missing center images: 3930 / 3930\n",
            "Path in CSV → C:\\Users\\Andy\\Desktop\\self_driving_car_dataset\\IMG\\center_2022_04_10_12_24_41_840.jpg\n",
            "Basename    → C:\\Users\\Andy\\Desktop\\self_driving_car_dataset\\IMG\\center_2022_04_10_12_24_41_840.jpg\n"
          ]
        }
      ],
      "source": [
        "### 1 – How many rows in the CSV can’t find their image?\n",
        "import os, pandas as pd\n",
        "\n",
        "data_dir = '/content/drive/MyDrive/Nikola Data/Udacity/self_driving_car_dataset_make'\n",
        "log = pd.read_csv(os.path.join(data_dir, 'driving_log.csv'),\n",
        "                  names=['center','left','right','steer','throttle','brake','speed'])\n",
        "\n",
        "missing = 0\n",
        "for p in log.center:\n",
        "    fn = os.path.join(data_dir, 'IMG', os.path.basename(p).strip())\n",
        "    if not os.path.exists(fn):\n",
        "        missing += 1\n",
        "print(f\"Missing center images: {missing} / {len(log)}\")\n",
        "row0 = log.center.iloc[0]\n",
        "print(\"Path in CSV →\", row0)\n",
        "print(\"Basename    →\", os.path.basename(row0))\n",
        "\n"
      ]
    },
    {
      "cell_type": "code",
      "execution_count": null,
      "metadata": {
        "colab": {
          "base_uri": "https://localhost:8080/"
        },
        "id": "72bWMOt7WMnk",
        "outputId": "18bd025a-61aa-4fa0-a572-30150cdf1535"
      },
      "outputs": [
        {
          "name": "stdout",
          "output_type": "stream",
          "text": [
            "Actual CSV Columns: ['centercam' 'leftcam' 'rightcam' 'steering' 'throttle' 'brake' 'speed']\n",
            "Data loaded: 3144 training samples, 786 validation samples.\n",
            "Using device: cuda\n",
            "Setup complete. Ready to start training loop.\n"
          ]
        }
      ],
      "source": [
        "import torch\n",
        "import torch.nn as nn\n",
        "import torch.optim as optim\n",
        "from torch.utils.data import DataLoader, random_split\n",
        "\n",
        "# Custom collate function to filter out None values\n",
        "def collate_fn_skip_none(batch):\n",
        "    # Filter out None values\n",
        "    batch = [item for item in batch if item is not None]\n",
        "    if not batch: # Return None if batch is empty after filtering\n",
        "        return None\n",
        "    return torch.utils.data.dataloader.default_collate(batch)\n",
        "\n",
        "\n",
        "data_dir = '/content/drive/MyDrive/Nikola Data/Udacity/self_driving_car_dataset_make'\n",
        "batch_size = 32\n",
        "learning_rate = 0.001\n",
        "epoch = 5\n",
        "\n",
        "# load and splitting the data\n",
        "full_dataset = UdacityDataset(data_dir=data_dir)\n",
        "print(f\"Actual CSV Columns: {full_dataset.log.columns.values}\")\n",
        "\n",
        "train_size = int(0.8*len(full_dataset))\n",
        "val_size = len(full_dataset) - train_size\n",
        "train_dataset, val_dataset = random_split(full_dataset, [train_size, val_size])\n",
        "\n",
        "print(f\"Data loaded: {len(train_dataset)} training samples, {len(val_dataset)} validation samples.\")\n",
        "\n",
        "# create the dataloaders, using the custom collate function\n",
        "train_loader = DataLoader(train_dataset, batch_size=batch_size, shuffle=True, collate_fn=collate_fn_skip_none)\n",
        "val_loader = DataLoader(val_dataset, batch_size=batch_size, shuffle=False, collate_fn=collate_fn_skip_none)\n",
        "\n",
        "# Intialize model, loss func, and optimizer\n",
        "device = torch.device('cuda' if torch.cuda.is_available() else 'cpu')\n",
        "model = nikola().to(device)\n",
        "criterion = nn.MSELoss()\n",
        "optimizer = optim.Adam(model.parameters(), lr=learning_rate)\n",
        "\n",
        "print(f\"Using device: {device}\")\n",
        "print(\"Setup complete. Ready to start training loop.\")"
      ]
    },
    {
      "cell_type": "code",
      "execution_count": null,
      "metadata": {
        "colab": {
          "base_uri": "https://localhost:8080/"
        },
        "id": "pK1rO6mps5Zt",
        "outputId": "c200aaee-ca4c-4134-8ed6-c1fa5000fed2"
      },
      "outputs": [
        {
          "name": "stdout",
          "output_type": "stream",
          "text": [
            "Warning: Could not load image at /content/drive/MyDrive/Nikola Data/Udacity/self_driving_car_dataset_make/IMG/center_2022_04_10_12_27_50_780.jpg. Skipping this data point.\n",
            "Warning: Could not load image at /content/drive/MyDrive/Nikola Data/Udacity/self_driving_car_dataset_make/IMG/center_2022_04_10_12_27_49_805.jpg. Skipping this data point.\n",
            "Warning: Could not load image at /content/drive/MyDrive/Nikola Data/Udacity/self_driving_car_dataset_make/IMG/center_2022_04_10_12_27_50_567.jpg. Skipping this data point.\n",
            "Warning: Could not load image at /content/drive/MyDrive/Nikola Data/Udacity/self_driving_car_dataset_make/IMG/center_2022_04_10_12_27_50_640.jpg. Skipping this data point.\n",
            "Warning: Could not load image at /content/drive/MyDrive/Nikola Data/Udacity/self_driving_car_dataset_make/IMG/center_2022_04_10_12_27_50_155.jpg. Skipping this data point.\n",
            "Warning: Could not load image at /content/drive/MyDrive/Nikola Data/Udacity/self_driving_car_dataset_make/IMG/center_2022_04_10_12_27_50_711.jpg. Skipping this data point.\n",
            "Warning: Could not load image at /content/drive/MyDrive/Nikola Data/Udacity/self_driving_car_dataset_make/IMG/center_2022_04_10_12_27_50_429.jpg. Skipping this data point.\n",
            "Warning: Could not load image at /content/drive/MyDrive/Nikola Data/Udacity/self_driving_car_dataset_make/IMG/center_2022_04_10_12_27_50_362.jpg. Skipping this data point.\n",
            "Warning: Could not load image at /content/drive/MyDrive/Nikola Data/Udacity/self_driving_car_dataset_make/IMG/center_2022_04_10_12_27_50_225.jpg. Skipping this data point.\n",
            "Warning: Could not load image at /content/drive/MyDrive/Nikola Data/Udacity/self_driving_car_dataset_make/IMG/center_2022_04_10_12_27_50_084.jpg. Skipping this data point.\n",
            "Warning: Could not load image at /content/drive/MyDrive/Nikola Data/Udacity/self_driving_car_dataset_make/IMG/center_2022_04_10_12_27_50_497.jpg. Skipping this data point.\n",
            "Epoch [1/5] -> Train Loss: 0.0823 | Validation Loss: 0.0121\n",
            "New best model saved!\n",
            "Warning: Could not load image at /content/drive/MyDrive/Nikola Data/Udacity/self_driving_car_dataset_make/IMG/center_2022_04_10_12_27_50_711.jpg. Skipping this data point.\n",
            "Warning: Could not load image at /content/drive/MyDrive/Nikola Data/Udacity/self_driving_car_dataset_make/IMG/center_2022_04_10_12_27_50_362.jpg. Skipping this data point.\n",
            "Warning: Could not load image at /content/drive/MyDrive/Nikola Data/Udacity/self_driving_car_dataset_make/IMG/center_2022_04_10_12_27_50_225.jpg. Skipping this data point.\n",
            "Warning: Could not load image at /content/drive/MyDrive/Nikola Data/Udacity/self_driving_car_dataset_make/IMG/center_2022_04_10_12_27_49_805.jpg. Skipping this data point.\n",
            "Warning: Could not load image at /content/drive/MyDrive/Nikola Data/Udacity/self_driving_car_dataset_make/IMG/center_2022_04_10_12_27_50_567.jpg. Skipping this data point.\n",
            "Warning: Could not load image at /content/drive/MyDrive/Nikola Data/Udacity/self_driving_car_dataset_make/IMG/center_2022_04_10_12_27_50_429.jpg. Skipping this data point.\n",
            "Warning: Could not load image at /content/drive/MyDrive/Nikola Data/Udacity/self_driving_car_dataset_make/IMG/center_2022_04_10_12_27_50_640.jpg. Skipping this data point.\n",
            "Warning: Could not load image at /content/drive/MyDrive/Nikola Data/Udacity/self_driving_car_dataset_make/IMG/center_2022_04_10_12_27_50_780.jpg. Skipping this data point.\n",
            "Warning: Could not load image at /content/drive/MyDrive/Nikola Data/Udacity/self_driving_car_dataset_make/IMG/center_2022_04_10_12_27_50_155.jpg. Skipping this data point.\n",
            "Warning: Could not load image at /content/drive/MyDrive/Nikola Data/Udacity/self_driving_car_dataset_make/IMG/center_2022_04_10_12_27_50_084.jpg. Skipping this data point.\n",
            "Warning: Could not load image at /content/drive/MyDrive/Nikola Data/Udacity/self_driving_car_dataset_make/IMG/center_2022_04_10_12_27_50_497.jpg. Skipping this data point.\n",
            "Epoch [2/5] -> Train Loss: 0.0098 | Validation Loss: 0.0116\n",
            "New best model saved!\n",
            "Warning: Could not load image at /content/drive/MyDrive/Nikola Data/Udacity/self_driving_car_dataset_make/IMG/center_2022_04_10_12_27_50_155.jpg. Skipping this data point.\n",
            "Warning: Could not load image at /content/drive/MyDrive/Nikola Data/Udacity/self_driving_car_dataset_make/IMG/center_2022_04_10_12_27_50_225.jpg. Skipping this data point.\n",
            "Warning: Could not load image at /content/drive/MyDrive/Nikola Data/Udacity/self_driving_car_dataset_make/IMG/center_2022_04_10_12_27_50_567.jpg. Skipping this data point.\n",
            "Warning: Could not load image at /content/drive/MyDrive/Nikola Data/Udacity/self_driving_car_dataset_make/IMG/center_2022_04_10_12_27_50_711.jpg. Skipping this data point.\n",
            "Warning: Could not load image at /content/drive/MyDrive/Nikola Data/Udacity/self_driving_car_dataset_make/IMG/center_2022_04_10_12_27_50_780.jpg. Skipping this data point.\n",
            "Warning: Could not load image at /content/drive/MyDrive/Nikola Data/Udacity/self_driving_car_dataset_make/IMG/center_2022_04_10_12_27_50_640.jpg. Skipping this data point.\n",
            "Warning: Could not load image at /content/drive/MyDrive/Nikola Data/Udacity/self_driving_car_dataset_make/IMG/center_2022_04_10_12_27_50_362.jpg. Skipping this data point.\n",
            "Warning: Could not load image at /content/drive/MyDrive/Nikola Data/Udacity/self_driving_car_dataset_make/IMG/center_2022_04_10_12_27_50_429.jpg. Skipping this data point.\n",
            "Warning: Could not load image at /content/drive/MyDrive/Nikola Data/Udacity/self_driving_car_dataset_make/IMG/center_2022_04_10_12_27_49_805.jpg. Skipping this data point.\n",
            "Warning: Could not load image at /content/drive/MyDrive/Nikola Data/Udacity/self_driving_car_dataset_make/IMG/center_2022_04_10_12_27_50_084.jpg. Skipping this data point.\n",
            "Warning: Could not load image at /content/drive/MyDrive/Nikola Data/Udacity/self_driving_car_dataset_make/IMG/center_2022_04_10_12_27_50_497.jpg. Skipping this data point.\n",
            "Epoch [3/5] -> Train Loss: 0.0098 | Validation Loss: 0.0117\n",
            "Warning: Could not load image at /content/drive/MyDrive/Nikola Data/Udacity/self_driving_car_dataset_make/IMG/center_2022_04_10_12_27_50_362.jpg. Skipping this data point.\n",
            "Warning: Could not load image at /content/drive/MyDrive/Nikola Data/Udacity/self_driving_car_dataset_make/IMG/center_2022_04_10_12_27_50_640.jpg. Skipping this data point.\n",
            "Warning: Could not load image at /content/drive/MyDrive/Nikola Data/Udacity/self_driving_car_dataset_make/IMG/center_2022_04_10_12_27_50_711.jpg. Skipping this data point.\n",
            "Warning: Could not load image at /content/drive/MyDrive/Nikola Data/Udacity/self_driving_car_dataset_make/IMG/center_2022_04_10_12_27_50_567.jpg. Skipping this data point.\n",
            "Warning: Could not load image at /content/drive/MyDrive/Nikola Data/Udacity/self_driving_car_dataset_make/IMG/center_2022_04_10_12_27_50_225.jpg. Skipping this data point.\n",
            "Warning: Could not load image at /content/drive/MyDrive/Nikola Data/Udacity/self_driving_car_dataset_make/IMG/center_2022_04_10_12_27_49_805.jpg. Skipping this data point.\n",
            "Warning: Could not load image at /content/drive/MyDrive/Nikola Data/Udacity/self_driving_car_dataset_make/IMG/center_2022_04_10_12_27_50_155.jpg. Skipping this data point.\n",
            "Warning: Could not load image at /content/drive/MyDrive/Nikola Data/Udacity/self_driving_car_dataset_make/IMG/center_2022_04_10_12_27_50_429.jpg. Skipping this data point.\n",
            "Warning: Could not load image at /content/drive/MyDrive/Nikola Data/Udacity/self_driving_car_dataset_make/IMG/center_2022_04_10_12_27_50_780.jpg. Skipping this data point.\n",
            "Warning: Could not load image at /content/drive/MyDrive/Nikola Data/Udacity/self_driving_car_dataset_make/IMG/center_2022_04_10_12_27_50_084.jpg. Skipping this data point.\n",
            "Warning: Could not load image at /content/drive/MyDrive/Nikola Data/Udacity/self_driving_car_dataset_make/IMG/center_2022_04_10_12_27_50_497.jpg. Skipping this data point.\n",
            "Epoch [4/5] -> Train Loss: 0.0096 | Validation Loss: 0.0116\n",
            "New best model saved!\n",
            "Warning: Could not load image at /content/drive/MyDrive/Nikola Data/Udacity/self_driving_car_dataset_make/IMG/center_2022_04_10_12_27_50_429.jpg. Skipping this data point.\n",
            "Warning: Could not load image at /content/drive/MyDrive/Nikola Data/Udacity/self_driving_car_dataset_make/IMG/center_2022_04_10_12_27_50_225.jpg. Skipping this data point.\n",
            "Warning: Could not load image at /content/drive/MyDrive/Nikola Data/Udacity/self_driving_car_dataset_make/IMG/center_2022_04_10_12_27_50_780.jpg. Skipping this data point.\n",
            "Warning: Could not load image at /content/drive/MyDrive/Nikola Data/Udacity/self_driving_car_dataset_make/IMG/center_2022_04_10_12_27_50_640.jpg. Skipping this data point.\n",
            "Warning: Could not load image at /content/drive/MyDrive/Nikola Data/Udacity/self_driving_car_dataset_make/IMG/center_2022_04_10_12_27_50_711.jpg. Skipping this data point.\n",
            "Warning: Could not load image at /content/drive/MyDrive/Nikola Data/Udacity/self_driving_car_dataset_make/IMG/center_2022_04_10_12_27_50_362.jpg. Skipping this data point.\n",
            "Warning: Could not load image at /content/drive/MyDrive/Nikola Data/Udacity/self_driving_car_dataset_make/IMG/center_2022_04_10_12_27_50_155.jpg. Skipping this data point.\n",
            "Warning: Could not load image at /content/drive/MyDrive/Nikola Data/Udacity/self_driving_car_dataset_make/IMG/center_2022_04_10_12_27_50_567.jpg. Skipping this data point.\n",
            "Warning: Could not load image at /content/drive/MyDrive/Nikola Data/Udacity/self_driving_car_dataset_make/IMG/center_2022_04_10_12_27_49_805.jpg. Skipping this data point.\n",
            "Warning: Could not load image at /content/drive/MyDrive/Nikola Data/Udacity/self_driving_car_dataset_make/IMG/center_2022_04_10_12_27_50_084.jpg. Skipping this data point.\n",
            "Warning: Could not load image at /content/drive/MyDrive/Nikola Data/Udacity/self_driving_car_dataset_make/IMG/center_2022_04_10_12_27_50_497.jpg. Skipping this data point.\n",
            "Epoch [5/5] -> Train Loss: 0.0097 | Validation Loss: 0.0116\n",
            "Finished Training!\n"
          ]
        }
      ],
      "source": [
        "if __name__ == \"__main__\":\n",
        "    # --- Training Loop ---\n",
        "    best_val_loss = float('inf')\n",
        "    EPOCHS = 5 # You can increase this number for longer training\n",
        "\n",
        "    for epoch in range(EPOCHS):\n",
        "        # --- Training Phase ---\n",
        "        model.train()\n",
        "        running_loss = 0.0\n",
        "        for images, labels in train_loader:\n",
        "            # Move data to the GPU\n",
        "            images, labels = images.to(device), labels.to(device)\n",
        "\n",
        "            # Zero the gradients\n",
        "            optimizer.zero_grad()\n",
        "\n",
        "            # Forward pass\n",
        "            outputs = model(images)\n",
        "\n",
        "            # Calculate loss\n",
        "            loss = criterion(outputs, labels)\n",
        "\n",
        "            # Backward pass (backpropagation)\n",
        "            loss.backward()\n",
        "\n",
        "            # Update weights\n",
        "            optimizer.step()\n",
        "\n",
        "            running_loss += loss.item()\n",
        "\n",
        "        avg_train_loss = running_loss / len(train_loader)\n",
        "\n",
        "        # --- Validation Phase ---\n",
        "        model.eval()\n",
        "        running_val_loss = 0.0\n",
        "        with torch.no_grad():\n",
        "            for images, labels in val_loader:\n",
        "                images, labels = images.to(device), labels.to(device)\n",
        "                outputs = model(images)\n",
        "                loss = criterion(outputs, labels)\n",
        "                running_val_loss += loss.item()\n",
        "\n",
        "        avg_val_loss = running_val_loss / len(val_loader)\n",
        "\n",
        "        print(f\"Epoch [{epoch+1}/{EPOCHS}] -> Train Loss: {avg_train_loss:.4f} | Validation Loss: {avg_val_loss:.4f}\")\n",
        "\n",
        "        # --- Save the Best Model ---\n",
        "        if avg_val_loss < best_val_loss:\n",
        "            best_val_loss = avg_val_loss\n",
        "            torch.save(model.state_dict(), 'best_model.pth')\n",
        "            print(\"New best model saved!\")\n",
        "\n",
        "    print(\"Finished Training!\")"
      ]
    },
    {
      "cell_type": "code",
      "execution_count": null,
      "metadata": {
        "id": "n45XTftWtDeW"
      },
      "outputs": [],
      "source": []
    },
    {
      "cell_type": "code",
      "execution_count": null,
      "metadata": {
        "colab": {
          "base_uri": "https://localhost:8080/"
        },
        "id": "20c0d1d6",
        "outputId": "a512d443-75fa-4725-8c64-aa1df639e144"
      },
      "outputs": [
        {
          "name": "stdout",
          "output_type": "stream",
          "text": [
            "Missing center images: 0 / 3930\n",
            "Path in CSV → C:\\Users\\Andy\\Desktop\\self_driving_car_dataset\\IMG\\center_2022_04_10_12_24_41_840.jpg\n",
            "Basename    → C:\\Users\\Andy\\Desktop\\self_driving_car_dataset\\IMG\\center_2022_04_10_12_24_41_840.jpg\n"
          ]
        }
      ],
      "source": [
        "### 1 – How many rows in the CSV can’t find their image?\n",
        "import os, pandas as pd\n",
        "\n",
        "data_dir = '/content/drive/MyDrive/Nikola Data/Udacity/self_driving_car_dataset_make'\n",
        "log = pd.read_csv(os.path.join(data_dir, 'driving_log.csv'),\n",
        "                  names=['center','left','right','steer','throttle','brake','speed'])\n",
        "\n",
        "missing = 0\n",
        "for p in log.center:\n",
        "    # Extract the filename from the Windows path and construct the correct path\n",
        "    filename = os.path.basename(p.replace('\\\\', '/')).strip()\n",
        "    fn = os.path.join(data_dir, 'IMG', filename)\n",
        "    if not os.path.exists(fn):\n",
        "        missing += 1\n",
        "print(f\"Missing center images: {missing} / {len(log)}\")\n",
        "row0 = log.center.iloc[0]\n",
        "print(\"Path in CSV →\", row0)\n",
        "print(\"Basename    →\", os.path.basename(row0))"
      ]
    },
    {
      "cell_type": "code",
      "execution_count": null,
      "metadata": {
        "colab": {
          "base_uri": "https://localhost:8080/"
        },
        "id": "b19c3995",
        "outputId": "d9231dc3-653d-482f-e32b-8bbc3de49d9f"
      },
      "outputs": [
        {
          "name": "stdout",
          "output_type": "stream",
          "text": [
            "Failed to load image at: /content/drive/MyDrive/Nikola Data/Udacity/self_driving_car_dataset_make/IMG/center_2022_04_10_12_27_50_155.jpg\n"
          ]
        }
      ],
      "source": [
        "import cv2\n",
        "import os\n",
        "\n",
        "# The path to the image that caused the warning\n",
        "image_path = '/content/drive/MyDrive/Nikola Data/Udacity/self_driving_car_dataset_make/IMG/center_2022_04_10_12_27_50_155.jpg'\n",
        "\n",
        "# Attempt to load the image\n",
        "image = cv2.imread(image_path)\n",
        "\n",
        "if image is None:\n",
        "    print(f\"Failed to load image at: {image_path}\")\n",
        "    # You can add more debugging here if needed, e.g., check file size, permissions, etc.\n",
        "else:\n",
        "    print(f\"Successfully loaded image with shape: {image.shape}\")"
      ]
    }
  ],
  "metadata": {
    "accelerator": "GPU",
    "colab": {
      "gpuType": "T4",
      "provenance": []
    },
    "kernelspec": {
      "display_name": "Python 3",
      "name": "python3"
    },
    "language_info": {
      "name": "python"
    }
  },
  "nbformat": 4,
  "nbformat_minor": 0
}
